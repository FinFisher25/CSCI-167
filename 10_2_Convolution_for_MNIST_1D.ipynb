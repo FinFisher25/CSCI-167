{
  "nbformat": 4,
  "nbformat_minor": 0,
  "metadata": {
    "colab": {
      "provenance": [],
      "include_colab_link": true
    },
    "kernelspec": {
      "name": "python3",
      "display_name": "Python 3"
    },
    "language_info": {
      "name": "python"
    }
  },
  "cells": [
    {
      "cell_type": "markdown",
      "metadata": {
        "id": "view-in-github",
        "colab_type": "text"
      },
      "source": [
        "<a href=\"https://colab.research.google.com/github/FinFisher25/CSCI-167/blob/main/10_2_Convolution_for_MNIST_1D.ipynb\" target=\"_parent\"><img src=\"https://colab.research.google.com/assets/colab-badge.svg\" alt=\"Open In Colab\"/></a>"
      ]
    },
    {
      "cell_type": "markdown",
      "source": [
        "# **Notebook 10.2: Convolution for MNIST-1D**\n",
        "\n",
        "This notebook investigates a 1D convolutional network for MNIST-1D as in figure 10.7 and 10.8a.\n",
        "\n",
        "Work through the cells below, running each cell in turn. In various places you will see the words \"TO DO\". Follow the instructions at these places and make predictions about what is going to happen or write code to complete the functions.\n",
        "\n",
        "Contact me at udlbookmail@gmail.com if you find any mistakes or have any suggestions.\n",
        "\n"
      ],
      "metadata": {
        "id": "t9vk9Elugvmi"
      }
    },
    {
      "cell_type": "code",
      "source": [
        "# Run this if you're in a Colab to install MNIST 1D repository\n",
        "!pip install git+https://github.com/greydanus/mnist1d"
      ],
      "metadata": {
        "id": "D5yLObtZCi9J",
        "colab": {
          "base_uri": "https://localhost:8080/"
        },
        "outputId": "a36bc42d-14eb-448c-c332-33b9b1ab974b"
      },
      "execution_count": null,
      "outputs": [
        {
          "output_type": "stream",
          "name": "stdout",
          "text": [
            "Collecting git+https://github.com/greydanus/mnist1d\n",
            "  Cloning https://github.com/greydanus/mnist1d to /tmp/pip-req-build-rv7e8x8x\n",
            "  Running command git clone --filter=blob:none --quiet https://github.com/greydanus/mnist1d /tmp/pip-req-build-rv7e8x8x\n",
            "  Resolved https://github.com/greydanus/mnist1d to commit 7878d96082abd200c546a07a4101fa90b30fdf7e\n",
            "  Installing build dependencies ... \u001b[?25l\u001b[?25hdone\n",
            "  Getting requirements to build wheel ... \u001b[?25l\u001b[?25hdone\n",
            "  Preparing metadata (pyproject.toml) ... \u001b[?25l\u001b[?25hdone\n",
            "Requirement already satisfied: requests in /usr/local/lib/python3.10/dist-packages (from mnist1d==0.0.2.post16) (2.32.3)\n",
            "Requirement already satisfied: numpy in /usr/local/lib/python3.10/dist-packages (from mnist1d==0.0.2.post16) (1.26.4)\n",
            "Requirement already satisfied: matplotlib in /usr/local/lib/python3.10/dist-packages (from mnist1d==0.0.2.post16) (3.7.1)\n",
            "Requirement already satisfied: scipy in /usr/local/lib/python3.10/dist-packages (from mnist1d==0.0.2.post16) (1.13.1)\n",
            "Requirement already satisfied: contourpy>=1.0.1 in /usr/local/lib/python3.10/dist-packages (from matplotlib->mnist1d==0.0.2.post16) (1.3.0)\n",
            "Requirement already satisfied: cycler>=0.10 in /usr/local/lib/python3.10/dist-packages (from matplotlib->mnist1d==0.0.2.post16) (0.12.1)\n",
            "Requirement already satisfied: fonttools>=4.22.0 in /usr/local/lib/python3.10/dist-packages (from matplotlib->mnist1d==0.0.2.post16) (4.54.1)\n",
            "Requirement already satisfied: kiwisolver>=1.0.1 in /usr/local/lib/python3.10/dist-packages (from matplotlib->mnist1d==0.0.2.post16) (1.4.7)\n",
            "Requirement already satisfied: packaging>=20.0 in /usr/local/lib/python3.10/dist-packages (from matplotlib->mnist1d==0.0.2.post16) (24.1)\n",
            "Requirement already satisfied: pillow>=6.2.0 in /usr/local/lib/python3.10/dist-packages (from matplotlib->mnist1d==0.0.2.post16) (10.4.0)\n",
            "Requirement already satisfied: pyparsing>=2.3.1 in /usr/local/lib/python3.10/dist-packages (from matplotlib->mnist1d==0.0.2.post16) (3.2.0)\n",
            "Requirement already satisfied: python-dateutil>=2.7 in /usr/local/lib/python3.10/dist-packages (from matplotlib->mnist1d==0.0.2.post16) (2.8.2)\n",
            "Requirement already satisfied: charset-normalizer<4,>=2 in /usr/local/lib/python3.10/dist-packages (from requests->mnist1d==0.0.2.post16) (3.4.0)\n",
            "Requirement already satisfied: idna<4,>=2.5 in /usr/local/lib/python3.10/dist-packages (from requests->mnist1d==0.0.2.post16) (3.10)\n",
            "Requirement already satisfied: urllib3<3,>=1.21.1 in /usr/local/lib/python3.10/dist-packages (from requests->mnist1d==0.0.2.post16) (2.2.3)\n",
            "Requirement already satisfied: certifi>=2017.4.17 in /usr/local/lib/python3.10/dist-packages (from requests->mnist1d==0.0.2.post16) (2024.8.30)\n",
            "Requirement already satisfied: six>=1.5 in /usr/local/lib/python3.10/dist-packages (from python-dateutil>=2.7->matplotlib->mnist1d==0.0.2.post16) (1.16.0)\n",
            "Building wheels for collected packages: mnist1d\n",
            "  Building wheel for mnist1d (pyproject.toml) ... \u001b[?25l\u001b[?25hdone\n",
            "  Created wheel for mnist1d: filename=mnist1d-0.0.2.post16-py3-none-any.whl size=14624 sha256=e53e56b1d5119aa2e2aa978343041cf919db2920b29d05cd927a0ba97bcfcae2\n",
            "  Stored in directory: /tmp/pip-ephem-wheel-cache-1h1of2mt/wheels/41/95/55/45fcf7d38cfa97e35682da6c5017d4513729131326ce935371\n",
            "Successfully built mnist1d\n",
            "Installing collected packages: mnist1d\n",
            "Successfully installed mnist1d-0.0.2.post16\n"
          ]
        }
      ]
    },
    {
      "cell_type": "code",
      "source": [
        "import numpy as np\n",
        "import os\n",
        "import torch, torch.nn as nn\n",
        "from torch.utils.data import TensorDataset, DataLoader\n",
        "from torch.optim.lr_scheduler import StepLR\n",
        "import matplotlib.pyplot as plt\n",
        "import mnist1d\n",
        "import random"
      ],
      "metadata": {
        "id": "YrXWAH7sUWvU"
      },
      "execution_count": null,
      "outputs": []
    },
    {
      "cell_type": "code",
      "source": [
        "args = mnist1d.data.get_dataset_args()\n",
        "data = mnist1d.data.get_dataset(args, path='./mnist1d_data.pkl', download=False, regenerate=False)\n",
        "\n",
        "# The training and test input and outputs are in\n",
        "# data['x'], data['y'], data['x_test'], and data['y_test']\n",
        "print(\"Examples in training set: {}\".format(len(data['y'])))\n",
        "print(\"Examples in test set: {}\".format(len(data['y_test'])))\n",
        "print(\"Length of each example: {}\".format(data['x'].shape[-1]))"
      ],
      "metadata": {
        "id": "twI72ZCrCt5z",
        "colab": {
          "base_uri": "https://localhost:8080/"
        },
        "outputId": "68928481-f8fa-4a87-858b-bd19a877cd13"
      },
      "execution_count": null,
      "outputs": [
        {
          "output_type": "stream",
          "name": "stdout",
          "text": [
            "Did or could not load data from ./mnist1d_data.pkl. Rebuilding dataset...\n",
            "Examples in training set: 4000\n",
            "Examples in test set: 1000\n",
            "Length of each example: 40\n"
          ]
        }
      ]
    },
    {
      "cell_type": "code",
      "source": [
        "# Load in the data\n",
        "train_data_x = data['x'].transpose()\n",
        "train_data_y = data['y']\n",
        "val_data_x = data['x_test'].transpose()\n",
        "val_data_y = data['y_test']\n",
        "# Print out sizes\n",
        "print(\"Train data: %d examples (columns), each of which has %d dimensions (rows)\"%((train_data_x.shape[1],train_data_x.shape[0])))\n",
        "print(\"Validation data: %d examples (columns), each of which has %d dimensions (rows)\"%((val_data_x.shape[1],val_data_x.shape[0])))"
      ],
      "metadata": {
        "id": "8bKADvLHbiV5",
        "colab": {
          "base_uri": "https://localhost:8080/"
        },
        "outputId": "85033af1-5649-42f9-88f5-5caff8a197f9"
      },
      "execution_count": null,
      "outputs": [
        {
          "output_type": "stream",
          "name": "stdout",
          "text": [
            "Train data: 4000 examples (columns), each of which has 40 dimensions (rows)\n",
            "Validation data: 1000 examples (columns), each of which has 40 dimensions (rows)\n"
          ]
        }
      ]
    },
    {
      "cell_type": "markdown",
      "source": [
        "Define the network"
      ],
      "metadata": {
        "id": "_sFvRDGrl4qe"
      }
    },
    {
      "cell_type": "code",
      "source": [
        "# There are 40 input dimensions and 10 output dimensions for this data\n",
        "# The inputs correspond to the 40 offsets in the MNIST1D template.\n",
        "D_i = 40\n",
        "# The outputs correspond to the 10 digits\n",
        "D_o = 10\n",
        "\n",
        "\n",
        "# TODO Create a model with the following layers\n",
        "# 1. Convolutional layer, (input=length 40 and 1 channel, kernel size 3, stride 2, padding=\"valid\", 15 output channels )\n",
        "# 2. ReLU\n",
        "# 3. Convolutional layer, (input=length 19 and 15 channels, kernel size 3, stride 2, padding=\"valid\", 15 output channels )\n",
        "# 4. ReLU\n",
        "# 5. Convolutional layer, (input=length 9 and 15 channels, kernel size 3, stride 2, padding=\"valid\", 15 output channels)\n",
        "# 6. ReLU\n",
        "# 7. Flatten (converts 4x15) to length 60\n",
        "# 8. Linear layer (input size = 60, output size = 10)\n",
        "# References:\n",
        "# https://pytorch.org/docs/1.13/generated/torch.nn.Conv1d.html?highlight=conv1d#torch.nn.Conv1d\n",
        "# https://pytorch.org/docs/stable/generated/torch.nn.Flatten.html\n",
        "# https://pytorch.org/docs/1.13/generated/torch.nn.Linear.html?highlight=linear#torch.nn.Linear\n",
        "\n",
        "# NOTE THAT THE CONVOLUTIONAL LAYERS NEED TO TAKE THE NUMBER OF INPUT CHANNELS AS A PARAMETER\n",
        "# AND NOT THE INPUT SIZE.\n",
        "\n",
        "# Replace the following function:\n",
        "import torch.nn as nn\n",
        "\n",
        "model = nn.Sequential(\n",
        "    nn.Conv1d(1, 15, kernel_size=3, stride=2, padding=\"valid\"),\n",
        "    nn.ReLU(),\n",
        "    nn.Conv1d(15, 15, kernel_size=3, stride=2, padding=\"valid\"),\n",
        "    nn.ReLU(),\n",
        "    nn.Conv1d(15, 15, kernel_size=3, stride=2, padding=\"valid\"),\n",
        "    nn.ReLU(),\n",
        "    nn.Flatten(),\n",
        "    nn.Linear(60, 10)\n",
        ")\n",
        "\n",
        "\n",
        "\n"
      ],
      "metadata": {
        "id": "FslroPJJffrh"
      },
      "execution_count": null,
      "outputs": []
    },
    {
      "cell_type": "code",
      "source": [
        "# He initialization of weights\n",
        "def weights_init(layer_in):\n",
        "  if isinstance(layer_in, nn.Linear):\n",
        "    nn.init.kaiming_uniform_(layer_in.weight)\n",
        "    layer_in.bias.data.fill_(0.0)"
      ],
      "metadata": {
        "id": "YgLaex1pfhqz"
      },
      "execution_count": null,
      "outputs": []
    },
    {
      "cell_type": "code",
      "source": [
        "# choose cross entropy loss function (equation 5.24 in the loss notes)\n",
        "loss_function = nn.CrossEntropyLoss()\n",
        "# construct SGD optimizer and initialize learning rate and momentum\n",
        "optimizer = torch.optim.SGD(model.parameters(), lr = 0.05, momentum=0.9)\n",
        "# object that decreases learning rate by half every 20 epochs\n",
        "scheduler = StepLR(optimizer, step_size=20, gamma=0.5)\n",
        "# create 100 dummy data points and store in data loader class\n",
        "x_train = torch.tensor(train_data_x.transpose().astype('float32'))\n",
        "y_train = torch.tensor(train_data_y.astype('long')).long()\n",
        "x_val= torch.tensor(val_data_x.transpose().astype('float32'))\n",
        "y_val = torch.tensor(val_data_y.astype('long')).long()\n",
        "\n",
        "# load the data into a class that creates the batches\n",
        "data_loader = DataLoader(TensorDataset(x_train,y_train), batch_size=100, shuffle=True, worker_init_fn=np.random.seed(1))\n",
        "\n",
        "# Initialize model weights\n",
        "model.apply(weights_init)\n",
        "\n",
        "# loop over the dataset n_epoch times\n",
        "n_epoch = 100\n",
        "# store the loss and the % correct at each epoch\n",
        "losses_train = np.zeros((n_epoch))\n",
        "errors_train = np.zeros((n_epoch))\n",
        "losses_val = np.zeros((n_epoch))\n",
        "errors_val = np.zeros((n_epoch))\n",
        "\n",
        "for epoch in range(n_epoch):\n",
        "  # loop over batches\n",
        "  for i, data in enumerate(data_loader):\n",
        "    # retrieve inputs and labels for this batch\n",
        "    x_batch, y_batch = data\n",
        "    # zero the parameter gradients\n",
        "    optimizer.zero_grad()\n",
        "    # forward pass -- calculate model output\n",
        "    pred = model(x_batch[:,None,:])\n",
        "    # compute the loss\n",
        "    loss = loss_function(pred, y_batch)\n",
        "    # backward pass\n",
        "    loss.backward()\n",
        "    # SGD update\n",
        "    optimizer.step()\n",
        "\n",
        "  # Run whole dataset to get statistics -- normally wouldn't do this\n",
        "  pred_train = model(x_train[:,None,:])\n",
        "  pred_val = model(x_val[:,None,:])\n",
        "  _, predicted_train_class = torch.max(pred_train.data, 1)\n",
        "  _, predicted_val_class = torch.max(pred_val.data, 1)\n",
        "  errors_train[epoch] = 100 - 100 * (predicted_train_class == y_train).float().sum() / len(y_train)\n",
        "  errors_val[epoch]= 100 - 100 * (predicted_val_class == y_val).float().sum() / len(y_val)\n",
        "  losses_train[epoch] = loss_function(pred_train, y_train).item()\n",
        "  losses_val[epoch]= loss_function(pred_val, y_val).item()\n",
        "  print(f'Epoch {epoch:5d}, train loss {losses_train[epoch]:.6f}, train error {errors_train[epoch]:3.2f},  val loss {losses_val[epoch]:.6f}, percent error {errors_val[epoch]:3.2f}')\n",
        "\n",
        "  # tell scheduler to consider updating learning rate\n",
        "  scheduler.step()\n",
        "\n",
        "# Plot the results\n",
        "fig, ax = plt.subplots()\n",
        "ax.plot(errors_train,'r-',label='train')\n",
        "ax.plot(errors_val,'b-',label='validation')\n",
        "ax.set_ylim(0,100); ax.set_xlim(0,n_epoch)\n",
        "ax.set_xlabel('Epoch'); ax.set_ylabel('Error')\n",
        "ax.set_title('Part I: Validation Result %3.2f'%(errors_val[-1]))\n",
        "ax.legend()\n",
        "plt.show()"
      ],
      "metadata": {
        "id": "NYw8I_3mmX5c",
        "colab": {
          "base_uri": "https://localhost:8080/",
          "height": 1000
        },
        "outputId": "e08875d5-ce5a-462f-876a-ec7c149c2298"
      },
      "execution_count": null,
      "outputs": [
        {
          "output_type": "stream",
          "name": "stdout",
          "text": [
            "Epoch     0, train loss 1.999357, train error 75.95,  val loss 2.016938, percent error 78.00\n",
            "Epoch     1, train loss 1.526232, train error 60.25,  val loss 1.556146, percent error 63.20\n",
            "Epoch     2, train loss 1.371641, train error 55.08,  val loss 1.376454, percent error 57.40\n",
            "Epoch     3, train loss 1.335739, train error 53.33,  val loss 1.352800, percent error 55.00\n",
            "Epoch     4, train loss 1.169761, train error 48.08,  val loss 1.201597, percent error 51.40\n",
            "Epoch     5, train loss 1.114003, train error 44.12,  val loss 1.147378, percent error 49.30\n",
            "Epoch     6, train loss 0.943011, train error 37.17,  val loss 0.966242, percent error 36.80\n",
            "Epoch     7, train loss 0.918300, train error 35.60,  val loss 0.975264, percent error 37.60\n",
            "Epoch     8, train loss 0.754582, train error 29.88,  val loss 0.832522, percent error 32.10\n",
            "Epoch     9, train loss 0.688716, train error 26.70,  val loss 0.775939, percent error 30.90\n",
            "Epoch    10, train loss 0.697625, train error 26.45,  val loss 0.766028, percent error 28.50\n",
            "Epoch    11, train loss 0.659859, train error 24.43,  val loss 0.747351, percent error 27.80\n",
            "Epoch    12, train loss 0.548265, train error 21.07,  val loss 0.640079, percent error 23.60\n",
            "Epoch    13, train loss 0.609036, train error 24.10,  val loss 0.715354, percent error 25.80\n",
            "Epoch    14, train loss 0.434025, train error 16.15,  val loss 0.570983, percent error 20.80\n",
            "Epoch    15, train loss 0.435319, train error 16.72,  val loss 0.579974, percent error 22.80\n",
            "Epoch    16, train loss 0.623783, train error 23.22,  val loss 0.782479, percent error 27.10\n",
            "Epoch    17, train loss 0.356158, train error 13.75,  val loss 0.508435, percent error 18.80\n",
            "Epoch    18, train loss 0.403431, train error 15.85,  val loss 0.543289, percent error 19.50\n",
            "Epoch    19, train loss 0.335173, train error 12.82,  val loss 0.502270, percent error 17.80\n",
            "Epoch    20, train loss 0.260418, train error 9.15,  val loss 0.434406, percent error 14.50\n",
            "Epoch    21, train loss 0.236616, train error 8.47,  val loss 0.421011, percent error 13.10\n",
            "Epoch    22, train loss 0.235005, train error 8.47,  val loss 0.428464, percent error 15.00\n",
            "Epoch    23, train loss 0.206831, train error 7.05,  val loss 0.403534, percent error 13.20\n",
            "Epoch    24, train loss 0.230074, train error 8.10,  val loss 0.455868, percent error 15.10\n",
            "Epoch    25, train loss 0.193515, train error 6.75,  val loss 0.388479, percent error 12.10\n",
            "Epoch    26, train loss 0.178246, train error 5.93,  val loss 0.397229, percent error 11.80\n",
            "Epoch    27, train loss 0.154174, train error 5.10,  val loss 0.379857, percent error 12.10\n",
            "Epoch    28, train loss 0.194878, train error 7.07,  val loss 0.438080, percent error 12.10\n",
            "Epoch    29, train loss 0.163069, train error 5.78,  val loss 0.417747, percent error 12.30\n",
            "Epoch    30, train loss 0.164934, train error 5.68,  val loss 0.407803, percent error 11.70\n",
            "Epoch    31, train loss 0.127477, train error 4.53,  val loss 0.357530, percent error 9.80\n",
            "Epoch    32, train loss 0.142271, train error 4.97,  val loss 0.396722, percent error 10.70\n",
            "Epoch    33, train loss 0.121210, train error 3.97,  val loss 0.376317, percent error 10.60\n",
            "Epoch    34, train loss 0.123235, train error 4.47,  val loss 0.394919, percent error 10.80\n",
            "Epoch    35, train loss 0.122195, train error 4.28,  val loss 0.393930, percent error 10.90\n",
            "Epoch    36, train loss 0.106229, train error 3.50,  val loss 0.379456, percent error 10.80\n",
            "Epoch    37, train loss 0.139409, train error 4.43,  val loss 0.418346, percent error 12.00\n",
            "Epoch    38, train loss 0.106195, train error 3.65,  val loss 0.376321, percent error 10.50\n",
            "Epoch    39, train loss 0.102974, train error 3.78,  val loss 0.408605, percent error 11.30\n",
            "Epoch    40, train loss 0.080745, train error 2.53,  val loss 0.373602, percent error 9.30\n",
            "Epoch    41, train loss 0.078732, train error 2.43,  val loss 0.381684, percent error 9.70\n",
            "Epoch    42, train loss 0.076209, train error 2.12,  val loss 0.386614, percent error 9.60\n",
            "Epoch    43, train loss 0.082897, train error 2.65,  val loss 0.383941, percent error 9.80\n",
            "Epoch    44, train loss 0.075591, train error 2.45,  val loss 0.388250, percent error 9.10\n",
            "Epoch    45, train loss 0.069608, train error 1.82,  val loss 0.376570, percent error 9.50\n",
            "Epoch    46, train loss 0.065636, train error 1.80,  val loss 0.392703, percent error 9.30\n",
            "Epoch    47, train loss 0.066789, train error 1.82,  val loss 0.402066, percent error 9.70\n",
            "Epoch    48, train loss 0.060262, train error 1.65,  val loss 0.388079, percent error 9.70\n",
            "Epoch    49, train loss 0.067861, train error 2.10,  val loss 0.415522, percent error 10.10\n",
            "Epoch    50, train loss 0.062390, train error 1.78,  val loss 0.405440, percent error 10.00\n",
            "Epoch    51, train loss 0.056008, train error 1.35,  val loss 0.401378, percent error 9.00\n",
            "Epoch    52, train loss 0.058046, train error 1.55,  val loss 0.410379, percent error 9.70\n",
            "Epoch    53, train loss 0.054583, train error 1.35,  val loss 0.408901, percent error 9.30\n",
            "Epoch    54, train loss 0.052857, train error 1.32,  val loss 0.412633, percent error 9.80\n",
            "Epoch    55, train loss 0.054659, train error 1.43,  val loss 0.416563, percent error 10.30\n",
            "Epoch    56, train loss 0.049492, train error 1.20,  val loss 0.416012, percent error 9.50\n",
            "Epoch    57, train loss 0.049114, train error 1.20,  val loss 0.407476, percent error 9.00\n",
            "Epoch    58, train loss 0.051437, train error 1.47,  val loss 0.423895, percent error 9.40\n",
            "Epoch    59, train loss 0.046808, train error 1.00,  val loss 0.434075, percent error 10.00\n",
            "Epoch    60, train loss 0.043939, train error 0.95,  val loss 0.420098, percent error 9.50\n",
            "Epoch    61, train loss 0.042803, train error 0.95,  val loss 0.423377, percent error 9.30\n",
            "Epoch    62, train loss 0.043805, train error 1.07,  val loss 0.429489, percent error 9.10\n",
            "Epoch    63, train loss 0.043900, train error 1.12,  val loss 0.428966, percent error 9.10\n",
            "Epoch    64, train loss 0.042828, train error 0.85,  val loss 0.438297, percent error 9.70\n",
            "Epoch    65, train loss 0.040732, train error 0.97,  val loss 0.436257, percent error 9.80\n",
            "Epoch    66, train loss 0.040413, train error 0.82,  val loss 0.435961, percent error 9.80\n",
            "Epoch    67, train loss 0.040481, train error 0.88,  val loss 0.427585, percent error 9.20\n",
            "Epoch    68, train loss 0.039168, train error 0.93,  val loss 0.436541, percent error 9.40\n",
            "Epoch    69, train loss 0.038827, train error 0.80,  val loss 0.439078, percent error 9.60\n",
            "Epoch    70, train loss 0.038464, train error 0.78,  val loss 0.439038, percent error 9.70\n",
            "Epoch    71, train loss 0.040823, train error 0.97,  val loss 0.436654, percent error 9.40\n",
            "Epoch    72, train loss 0.038689, train error 0.88,  val loss 0.443868, percent error 10.10\n",
            "Epoch    73, train loss 0.038075, train error 0.72,  val loss 0.447401, percent error 9.30\n",
            "Epoch    74, train loss 0.037522, train error 0.80,  val loss 0.448061, percent error 9.70\n",
            "Epoch    75, train loss 0.035619, train error 0.68,  val loss 0.444564, percent error 9.10\n",
            "Epoch    76, train loss 0.037286, train error 0.88,  val loss 0.442570, percent error 9.10\n",
            "Epoch    77, train loss 0.036438, train error 0.70,  val loss 0.451009, percent error 9.70\n",
            "Epoch    78, train loss 0.034616, train error 0.65,  val loss 0.452021, percent error 9.10\n",
            "Epoch    79, train loss 0.035914, train error 0.82,  val loss 0.453659, percent error 9.40\n",
            "Epoch    80, train loss 0.033533, train error 0.60,  val loss 0.451018, percent error 9.30\n",
            "Epoch    81, train loss 0.033144, train error 0.60,  val loss 0.453240, percent error 9.50\n",
            "Epoch    82, train loss 0.033550, train error 0.60,  val loss 0.454114, percent error 9.60\n",
            "Epoch    83, train loss 0.033232, train error 0.55,  val loss 0.457105, percent error 9.50\n",
            "Epoch    84, train loss 0.033388, train error 0.68,  val loss 0.453558, percent error 9.40\n",
            "Epoch    85, train loss 0.034811, train error 0.75,  val loss 0.459445, percent error 9.60\n",
            "Epoch    86, train loss 0.033296, train error 0.65,  val loss 0.463581, percent error 10.20\n",
            "Epoch    87, train loss 0.032304, train error 0.60,  val loss 0.458527, percent error 9.60\n",
            "Epoch    88, train loss 0.031692, train error 0.53,  val loss 0.460037, percent error 9.50\n",
            "Epoch    89, train loss 0.031775, train error 0.60,  val loss 0.461077, percent error 9.30\n",
            "Epoch    90, train loss 0.031417, train error 0.55,  val loss 0.460343, percent error 9.40\n",
            "Epoch    91, train loss 0.031126, train error 0.47,  val loss 0.460495, percent error 9.40\n",
            "Epoch    92, train loss 0.031593, train error 0.55,  val loss 0.464996, percent error 9.80\n",
            "Epoch    93, train loss 0.030992, train error 0.47,  val loss 0.462520, percent error 9.50\n",
            "Epoch    94, train loss 0.030987, train error 0.60,  val loss 0.467601, percent error 9.70\n",
            "Epoch    95, train loss 0.030946, train error 0.53,  val loss 0.466651, percent error 9.70\n",
            "Epoch    96, train loss 0.030642, train error 0.53,  val loss 0.467462, percent error 9.80\n",
            "Epoch    97, train loss 0.030218, train error 0.47,  val loss 0.467884, percent error 9.60\n",
            "Epoch    98, train loss 0.030384, train error 0.53,  val loss 0.467283, percent error 9.30\n",
            "Epoch    99, train loss 0.029973, train error 0.50,  val loss 0.466288, percent error 9.50\n"
          ]
        },
        {
          "output_type": "display_data",
          "data": {
            "text/plain": [
              "<Figure size 640x480 with 1 Axes>"
            ],
            "image/png": "[encoded data removed]"
          },
          "metadata": {}
        }
      ]
    }
  ]
}